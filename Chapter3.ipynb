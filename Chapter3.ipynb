{
  "nbformat": 4,
  "nbformat_minor": 0,
  "metadata": {
    "colab": {
      "name": "Chapter3.ipynb",
      "provenance": [],
      "authorship_tag": "ABX9TyNar+ZpeMV5j7SjIDD5NO0e"
    },
    "kernelspec": {
      "name": "python3",
      "display_name": "Python 3"
    }
  },
  "cells": [
    {
      "cell_type": "code",
      "metadata": {
        "id": "LydKgAFgPUH-",
        "colab_type": "code",
        "outputId": "066d0bbe-45ed-4a79-800f-a081d859bd09",
        "colab": {
          "base_uri": "https://localhost:8080/",
          "height": 1000
        }
      },
      "source": [
        "import tensorflow as tf\n",
        "#print(tf.__version__)\n",
        "a=tf.constant(1,name='a')\n",
        "b=tf.constant(1,name='b')\n",
        "c=a+b\n",
        "with tf.Session() as sess:\n",
        "    print(sess.run(c))\n",
        "graph=tf.get_default_graph()\n",
        "print(graph.as_graph_def())"
      ],
      "execution_count": 0,
      "outputs": [
        {
          "output_type": "stream",
          "text": [
            "2\n",
            "node {\n",
            "  name: \"a\"\n",
            "  op: \"Const\"\n",
            "  attr {\n",
            "    key: \"dtype\"\n",
            "    value {\n",
            "      type: DT_INT32\n",
            "    }\n",
            "  }\n",
            "  attr {\n",
            "    key: \"value\"\n",
            "    value {\n",
            "      tensor {\n",
            "        dtype: DT_INT32\n",
            "        tensor_shape {\n",
            "        }\n",
            "        int_val: 1\n",
            "      }\n",
            "    }\n",
            "  }\n",
            "}\n",
            "node {\n",
            "  name: \"b\"\n",
            "  op: \"Const\"\n",
            "  attr {\n",
            "    key: \"dtype\"\n",
            "    value {\n",
            "      type: DT_INT32\n",
            "    }\n",
            "  }\n",
            "  attr {\n",
            "    key: \"value\"\n",
            "    value {\n",
            "      tensor {\n",
            "        dtype: DT_INT32\n",
            "        tensor_shape {\n",
            "        }\n",
            "        int_val: 1\n",
            "      }\n",
            "    }\n",
            "  }\n",
            "}\n",
            "node {\n",
            "  name: \"add\"\n",
            "  op: \"AddV2\"\n",
            "  input: \"a\"\n",
            "  input: \"b\"\n",
            "  attr {\n",
            "    key: \"T\"\n",
            "    value {\n",
            "      type: DT_INT32\n",
            "    }\n",
            "  }\n",
            "}\n",
            "node {\n",
            "  name: \"a_1\"\n",
            "  op: \"Const\"\n",
            "  attr {\n",
            "    key: \"dtype\"\n",
            "    value {\n",
            "      type: DT_INT32\n",
            "    }\n",
            "  }\n",
            "  attr {\n",
            "    key: \"value\"\n",
            "    value {\n",
            "      tensor {\n",
            "        dtype: DT_INT32\n",
            "        tensor_shape {\n",
            "        }\n",
            "        int_val: 1\n",
            "      }\n",
            "    }\n",
            "  }\n",
            "}\n",
            "node {\n",
            "  name: \"b_1\"\n",
            "  op: \"Const\"\n",
            "  attr {\n",
            "    key: \"dtype\"\n",
            "    value {\n",
            "      type: DT_INT32\n",
            "    }\n",
            "  }\n",
            "  attr {\n",
            "    key: \"value\"\n",
            "    value {\n",
            "      tensor {\n",
            "        dtype: DT_INT32\n",
            "        tensor_shape {\n",
            "        }\n",
            "        int_val: 1\n",
            "      }\n",
            "    }\n",
            "  }\n",
            "}\n",
            "node {\n",
            "  name: \"add_1\"\n",
            "  op: \"AddV2\"\n",
            "  input: \"a_1\"\n",
            "  input: \"b_1\"\n",
            "  attr {\n",
            "    key: \"T\"\n",
            "    value {\n",
            "      type: DT_INT32\n",
            "    }\n",
            "  }\n",
            "}\n",
            "versions {\n",
            "  producer: 134\n",
            "}\n",
            "\n"
          ],
          "name": "stdout"
        }
      ]
    },
    {
      "cell_type": "code",
      "metadata": {
        "id": "V0UnC2dkP6Os",
        "colab_type": "code",
        "outputId": "3bef440d-fe5a-4417-e86f-c63a56f39797",
        "colab": {
          "base_uri": "https://localhost:8080/",
          "height": 54
        }
      },
      "source": [
        "a=tf.Variable(1,name='a')#変数\n",
        "b=tf.constant(1,name='b')#定数\n",
        "c=tf.assign(a,a+b)#代入\n",
        "\n",
        "with tf.Session() as sess:\n",
        "    sess.run(tf.global_variables_initializer())#変数の初期化\n",
        "    print(\"1[c,a]=\",sess.run([c,a]))\n",
        "    print(\"2[c,a]=\",sess.run([c,a]))"
      ],
      "execution_count": 0,
      "outputs": [
        {
          "output_type": "stream",
          "text": [
            "1[c,a]= [2, 2]\n",
            "2[c,a]= [3, 3]\n"
          ],
          "name": "stdout"
        }
      ]
    },
    {
      "cell_type": "code",
      "metadata": {
        "id": "VueR7m6JSdf4",
        "colab_type": "code",
        "outputId": "6b524d5a-c374-4d8f-e8d1-cc376f03775a",
        "colab": {
          "base_uri": "https://localhost:8080/",
          "height": 35
        }
      },
      "source": [
        "a=tf.placeholder(dtype=tf.int32,name='a')\n",
        "b=tf.constant(1,name='b')\n",
        "c=a+b\n",
        "with tf.Session() as sess:\n",
        "    print('a+b=',sess.run(c,feed_dict={a:1}))"
      ],
      "execution_count": 0,
      "outputs": [
        {
          "output_type": "stream",
          "text": [
            "a+b= 2\n"
          ],
          "name": "stdout"
        }
      ]
    },
    {
      "cell_type": "code",
      "metadata": {
        "id": "w96CIsU_Tv7o",
        "colab_type": "code",
        "outputId": "5f829045-9e7f-4286-8ec3-9edc4944c2a3",
        "colab": {
          "base_uri": "https://localhost:8080/",
          "height": 54
        }
      },
      "source": [
        "a=tf.constant(2,name='a')\n",
        "b=tf.constant(3,name='b')\n",
        "c=tf.add(a,b)\n",
        "d=tf.multiply(a,b)\n",
        "with tf.Session() as sess:\n",
        "    print('a+b=',sess.run(c))\n",
        "    print('a*b=',sess.run(d))"
      ],
      "execution_count": 0,
      "outputs": [
        {
          "output_type": "stream",
          "text": [
            "a+b= 5\n",
            "a*b= 6\n"
          ],
          "name": "stdout"
        }
      ]
    },
    {
      "cell_type": "code",
      "metadata": {
        "id": "LlkSTB_zVlTT",
        "colab_type": "code",
        "outputId": "2da0ba5a-91ad-4943-a893-6f0db5b11c11",
        "colab": {
          "base_uri": "https://localhost:8080/",
          "height": 181
        }
      },
      "source": [
        "a=tf.constant([[1,2],[3,4]],name='a')\n",
        "b=tf.constant([[1],[2]],name='b')\n",
        "c=tf.matmul(a,b)\n",
        "\n",
        "print('shape a:',a.shape)\n",
        "print('shape b:',b.shape)\n",
        "print('shape c:',c.shape)\n",
        "\n",
        "with tf.Session() as sess:\n",
        "    print(\"a=\",sess.run(a))\n",
        "    print(\"b=\",sess.run(b))\n",
        "    print(\"c=\",sess.run(c))"
      ],
      "execution_count": 0,
      "outputs": [
        {
          "output_type": "stream",
          "text": [
            "shape a: (2, 2)\n",
            "shape b: (2, 1)\n",
            "shape c: (2, 1)\n",
            "a= [[1 2]\n",
            " [3 4]]\n",
            "b= [[1]\n",
            " [2]]\n",
            "c= [[ 5]\n",
            " [11]]\n"
          ],
          "name": "stdout"
        }
      ]
    }
  ]
}